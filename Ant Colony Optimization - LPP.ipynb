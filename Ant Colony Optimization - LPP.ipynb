{
 "cells": [
  {
   "cell_type": "code",
   "execution_count": null,
   "metadata": {},
   "outputs": [],
   "source": [
    "import os\n",
    "import json\n",
    "import pandas as pd\n",
    "import multiprocessing\n",
    "\n",
    "from aco.aco import ACO"
   ]
  },
  {
   "cell_type": "code",
   "execution_count": null,
   "metadata": {},
   "outputs": [],
   "source": [
    "def update_local_stats(solutions):\n",
    "    cols  = [\"best\", \"worst\", \"mean\", \"std\", \"mean_size\"]\n",
    "    stats = pd.DataFrame(columns = cols)\n",
    "\n",
    "    for gen in range(1, max_iter + 1):\n",
    "\n",
    "        best  = solutions[gen][\"cost\"].max()\n",
    "        worst = solutions[gen][\"cost\"].min()\n",
    "        mean  = solutions[gen][\"cost\"].mean()\n",
    "        std   = solutions[gen][\"cost\"].std()\n",
    "\n",
    "        mean_size  = solutions[gen][\"path\"].apply(len).mean()\n",
    "\n",
    "        to_add = {\"best\": best, \"worst\": worst, \"mean\": mean, \"std\": std, \"mean_size\": mean_size}\n",
    "        stats  = stats.append(to_add, ignore_index = True)\n",
    "        \n",
    "    return stats"
   ]
  },
  {
   "cell_type": "code",
   "execution_count": null,
   "metadata": {},
   "outputs": [],
   "source": [
    "def run_aco(rep):\n",
    "    solutions = colony.longest_path(first_node, last_node, pheromone_init, max_iter, \n",
    "                                        n_ants, alpha, beta, evaporation_rate, update) \n",
    "    return solutions"
   ]
  },
  {
   "cell_type": "code",
   "execution_count": null,
   "metadata": {},
   "outputs": [],
   "source": [
    "folder_path = \"dataset\"\n",
    "\n",
    "data         = pd.read_csv(os.path.join(folder_path, \"entrada1.txt\"), sep = \"\\t\", header = None)\n",
    "data.columns = [\"n1\", \"n2\", \"w\"]\n",
    "\n",
    "data.head(3)"
   ]
  },
  {
   "cell_type": "code",
   "execution_count": null,
   "metadata": {},
   "outputs": [],
   "source": [
    "#### Parâmetros testados\n",
    "# 1. update           = \"global\", \"local\", \"global-local\", \"all\"\n",
    "# 2. n_ants           = 10, 50, 100, 500\n",
    "# 3. max_iter         = 10, 30, 50\n",
    "# 4. pheromone_init   = 1, 0.5, 2\n",
    "# 5. alpha            = 1, 0.5, 0.05\n",
    "# 6. beta             = 1, 0.5, 0.05\n",
    "# 7. evaporation_rate = 0.05, 0.5, 1\n",
    "\n",
    "n_ants           = 500\n",
    "max_iter         = 100\n",
    "pheromone_init   = 0.5\n",
    "alpha            = 1       # pheromone concentration\n",
    "beta             = 1       # function quality when calculating prob. transition\n",
    "evaporation_rate = 0.05    # pheromone\n",
    "\n",
    "update           = \"global-local\"\n",
    "\n",
    "colony           = ACO(data)\n",
    "\n",
    "# you can fix the nodes, just put the number of the node\n",
    "# ex: first_node = 1\n",
    "first_node       = min(colony.vertices)   #\"random\"\n",
    "last_node        = max(colony.vertices)   #\"random\"\n",
    "\n",
    "n_evaluations    = 30"
   ]
  },
  {
   "cell_type": "code",
   "execution_count": null,
   "metadata": {},
   "outputs": [],
   "source": [
    "with multiprocessing.Pool() as pool:\n",
    "        solutions = pool.map(run_aco, range(1, n_evaluations + 1))"
   ]
  },
  {
   "cell_type": "code",
   "execution_count": null,
   "metadata": {},
   "outputs": [],
   "source": [
    "#### to save the experiment values\n",
    "# they will be saved in a folder called \"results/\"\n",
    "\n",
    "test_number = 34\n",
    "\n",
    "repetitions = {}\n",
    "\n",
    "for rep in range(1, n_evaluations + 1):\n",
    "    repetitions[rep] = update_local_stats(solutions[rep - 1])\n",
    "    \n",
    "filename      = \"experiment00{}.json\".format(test_number)\n",
    "where_to_save = os.path.join(\"results\", filename)\n",
    "\n",
    "os.makedirs(os.path.dirname(where_to_save), exist_ok = True) \n",
    "\n",
    "data_dict     = {key: repetitions[key].to_dict(orient = 'index') for key in repetitions.keys()}\n",
    "\n",
    "with open(where_to_save, 'w') as fp:\n",
    "    json.dump(data_dict, fp, indent = 4, sort_keys = True)"
   ]
  },
  {
   "cell_type": "code",
   "execution_count": null,
   "metadata": {},
   "outputs": [],
   "source": []
  }
 ],
 "metadata": {
  "kernelspec": {
   "display_name": "Python 3",
   "language": "python",
   "name": "python3"
  },
  "language_info": {
   "codemirror_mode": {
    "name": "ipython",
    "version": 3
   },
   "file_extension": ".py",
   "mimetype": "text/x-python",
   "name": "python",
   "nbconvert_exporter": "python",
   "pygments_lexer": "ipython3",
   "version": "3.7.3"
  }
 },
 "nbformat": 4,
 "nbformat_minor": 2
}
